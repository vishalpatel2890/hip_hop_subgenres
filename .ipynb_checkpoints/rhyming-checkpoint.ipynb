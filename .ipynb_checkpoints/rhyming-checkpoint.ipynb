{
 "cells": [
  {
   "cell_type": "code",
   "execution_count": 3,
   "metadata": {},
   "outputs": [],
   "source": [
    "import pronouncing\n",
    "import numpy as np"
   ]
  },
  {
   "cell_type": "code",
   "execution_count": null,
   "metadata": {},
   "outputs": [],
   "source": []
  },
  {
   "cell_type": "code",
   "execution_count": 4,
   "metadata": {},
   "outputs": [
    {
     "data": {
      "text/plain": [
       "['W EH1 R', 'HH W EH1 R']"
      ]
     },
     "execution_count": 4,
     "metadata": {},
     "output_type": "execute_result"
    }
   ],
   "source": [
    "pronouncing.phones_for_word('where')"
   ]
  },
  {
   "cell_type": "code",
   "execution_count": 5,
   "metadata": {},
   "outputs": [],
   "source": [
    "string = '''Forgotten spot in the Caribbean.'''\n",
    "list_string = string.split(' ')\n",
    "\n",
    "\n",
    "phones = [pronouncing.phones_for_word(word) for word in list_string]\n",
    "# phones = [phone[0].split(' ') for phone in phones if len(phone)>0]\n",
    "# phones = np.array([phone for phone_group in phones for phone in phone_group])"
   ]
  },
  {
   "cell_type": "code",
   "execution_count": 6,
   "metadata": {},
   "outputs": [
    {
     "data": {
      "text/plain": [
       "[['F ER0 G AA1 T AH0 N', 'F AO0 R G AA1 T AH0 N'],\n",
       " ['S P AA1 T'],\n",
       " ['IH0 N', 'IH1 N'],\n",
       " ['DH AH0', 'DH AH1', 'DH IY0'],\n",
       " []]"
      ]
     },
     "execution_count": 6,
     "metadata": {},
     "output_type": "execute_result"
    }
   ],
   "source": [
    "phones"
   ]
  },
  {
   "cell_type": "code",
   "execution_count": 56,
   "metadata": {},
   "outputs": [
    {
     "name": "stdout",
     "output_type": "stream",
     "text": [
      "0 1\n",
      "1 11\n",
      "2 22\n",
      "3 44\n",
      "4 56\n"
     ]
    }
   ],
   "source": [
    "# phones[np.where(phones == 'EY1')]\n",
    "goodvalues = ['EY1']\n",
    "ix = np.isin(phones, goodvalues)\n",
    "np.where(ix)\n",
    "for i in np.where(ix):\n",
    "    for idx, x in enumerate(i):\n",
    "        print "
   ]
  },
  {
   "cell_type": "code",
   "execution_count": 129,
   "metadata": {},
   "outputs": [
    {
     "data": {
      "text/plain": [
       "[array([ 1, 11, 22, 44, 56])]"
      ]
     },
     "execution_count": 129,
     "metadata": {},
     "output_type": "execute_result"
    }
   ],
   "source": [
    "diff = np.diff(np.where(ix))[0]\n",
    "diff_ind = np.where( diff>25)\n",
    "np.split(np.where(ix)[0], diff_ind[0] + 1)\n"
   ]
  },
  {
   "cell_type": "code",
   "execution_count": 125,
   "metadata": {},
   "outputs": [
    {
     "data": {
      "text/plain": [
       "array([1, 2, 4])"
      ]
     },
     "execution_count": 125,
     "metadata": {},
     "output_type": "execute_result"
    }
   ],
   "source": []
  },
  {
   "cell_type": "code",
   "execution_count": 51,
   "metadata": {},
   "outputs": [
    {
     "data": {
      "text/plain": [
       "array(['S', 'EY1', 'F', 'S', 'EH1', 'K', 'S', 'IH1', 'Z', 'G', 'R', 'EY1',\n",
       "       'T', 'B', 'EH1', 'T', 'ER0', 'W', 'EH1', 'R', 'AH0', 'L', 'EY1',\n",
       "       'T', 'EH2', 'K', 'S', 'K', 'AH0', 'Z', 'Y', 'UW1', 'D', 'OW1', 'N',\n",
       "       'T', 'W', 'AA1', 'N', 'T', 'DH', 'AE1', 'T', 'L', 'EY1', 'T', 'DH',\n",
       "       'AE1', 'T', 'TH', 'IH1', 'NG', 'K', 'AY1', 'M', 'L', 'EY1', 'T',\n",
       "       'T', 'EH1', 'K', 'S', 'T'], dtype='<U3')"
      ]
     },
     "execution_count": 51,
     "metadata": {},
     "output_type": "execute_result"
    }
   ],
   "source": [
    "phones"
   ]
  },
  {
   "cell_type": "code",
   "execution_count": null,
   "metadata": {},
   "outputs": [],
   "source": []
  }
 ],
 "metadata": {
  "kernelspec": {
   "display_name": "genres",
   "language": "python",
   "name": "genres"
  },
  "language_info": {
   "codemirror_mode": {
    "name": "ipython",
    "version": 3
   },
   "file_extension": ".py",
   "mimetype": "text/x-python",
   "name": "python",
   "nbconvert_exporter": "python",
   "pygments_lexer": "ipython3",
   "version": "3.7.2"
  }
 },
 "nbformat": 4,
 "nbformat_minor": 2
}
