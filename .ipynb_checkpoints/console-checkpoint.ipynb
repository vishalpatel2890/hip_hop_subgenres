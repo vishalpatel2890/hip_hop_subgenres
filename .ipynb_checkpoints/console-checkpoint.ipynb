{
 "cells": [
  {
   "cell_type": "code",
   "execution_count": 7,
   "metadata": {},
   "outputs": [],
   "source": [
    "from db_model import *\n",
    "import pandas as pd"
   ]
  },
  {
   "cell_type": "code",
   "execution_count": 2,
   "metadata": {},
   "outputs": [],
   "source": [
    "session.commit()"
   ]
  },
  {
   "cell_type": "code",
   "execution_count": 3,
   "metadata": {},
   "outputs": [],
   "source": [
    "artist = Artist(name = 'Eminem', decade='2000s')"
   ]
  },
  {
   "cell_type": "code",
   "execution_count": 34,
   "metadata": {},
   "outputs": [
    {
     "ename": "ValueError",
     "evalue": "month must be in 1..12",
     "output_type": "error",
     "traceback": [
      "\u001b[0;31m---------------------------------------------------------------------------\u001b[0m",
      "\u001b[0;31mValueError\u001b[0m                                Traceback (most recent call last)",
      "\u001b[0;32m<ipython-input-34-3f6ea4137279>\u001b[0m in \u001b[0;36m<module>\u001b[0;34m\u001b[0m\n\u001b[0;32m----> 1\u001b[0;31m \u001b[0malbum\u001b[0m \u001b[0;34m=\u001b[0m \u001b[0mAlbum\u001b[0m\u001b[0;34m(\u001b[0m\u001b[0mname\u001b[0m\u001b[0;34m=\u001b[0m\u001b[0;34m'Marshall Mathers LP'\u001b[0m\u001b[0;34m,\u001b[0m \u001b[0martist_id\u001b[0m \u001b[0;34m=\u001b[0m\u001b[0;36m1\u001b[0m\u001b[0;34m,\u001b[0m \u001b[0mrelease_date\u001b[0m \u001b[0;34m=\u001b[0m\u001b[0mdatetime\u001b[0m\u001b[0;34m.\u001b[0m\u001b[0mdate\u001b[0m\u001b[0;34m(\u001b[0m\u001b[0;36m2000\u001b[0m\u001b[0;34m,\u001b[0m \u001b[0;36m13\u001b[0m\u001b[0;34m,\u001b[0m \u001b[0;36m15\u001b[0m\u001b[0;34m)\u001b[0m\u001b[0;34m)\u001b[0m\u001b[0;34m\u001b[0m\u001b[0;34m\u001b[0m\u001b[0m\n\u001b[0m",
      "\u001b[0;31mValueError\u001b[0m: month must be in 1..12"
     ]
    }
   ],
   "source": [
    "album = Album(name='Marshall Mathers LP', artist_id =1, release_date =datetime.date(2000, 1, 15))"
   ]
  },
  {
   "cell_type": "code",
   "execution_count": 30,
   "metadata": {},
   "outputs": [
    {
     "data": {
      "text/plain": [
       "<db_model.Artist at 0x105d13fd0>"
      ]
     },
     "execution_count": 30,
     "metadata": {},
     "output_type": "execute_result"
    }
   ],
   "source": [
    "artist"
   ]
  },
  {
   "cell_type": "code",
   "execution_count": 31,
   "metadata": {},
   "outputs": [],
   "source": [
    "session.add(album)"
   ]
  },
  {
   "cell_type": "code",
   "execution_count": 32,
   "metadata": {},
   "outputs": [],
   "source": [
    "session.commit()"
   ]
  },
  {
   "cell_type": "code",
   "execution_count": 35,
   "metadata": {},
   "outputs": [
    {
     "data": {
      "text/html": [
       "<div>\n",
       "<style scoped>\n",
       "    .dataframe tbody tr th:only-of-type {\n",
       "        vertical-align: middle;\n",
       "    }\n",
       "\n",
       "    .dataframe tbody tr th {\n",
       "        vertical-align: top;\n",
       "    }\n",
       "\n",
       "    .dataframe thead th {\n",
       "        text-align: right;\n",
       "    }\n",
       "</style>\n",
       "<table border=\"1\" class=\"dataframe\">\n",
       "  <thead>\n",
       "    <tr style=\"text-align: right;\">\n",
       "      <th></th>\n",
       "      <th>id</th>\n",
       "      <th>name</th>\n",
       "      <th>album_id</th>\n",
       "      <th>lyrics</th>\n",
       "    </tr>\n",
       "  </thead>\n",
       "  <tbody>\n",
       "  </tbody>\n",
       "</table>\n",
       "</div>"
      ],
      "text/plain": [
       "Empty DataFrame\n",
       "Columns: [id, name, album_id, lyrics]\n",
       "Index: []"
      ]
     },
     "execution_count": 35,
     "metadata": {},
     "output_type": "execute_result"
    }
   ],
   "source": [
    "pd.read_sql('songs', engine)"
   ]
  },
  {
   "cell_type": "code",
   "execution_count": 13,
   "metadata": {},
   "outputs": [],
   "source": [
    "from selenium import webdriver\n",
    "from selenium.webdriver.common.keys import Keys\n",
    "from bs4 import BeautifulSoup"
   ]
  },
  {
   "cell_type": "code",
   "execution_count": 28,
   "metadata": {},
   "outputs": [],
   "source": [
    "driver = webdriver.Chrome('./chromedriver')\n",
    "driver.get(\"http://www.genius.com/eminem\")\n",
    "elem = driver.find_element_by_xpath(\"/html/body/routable-page/ng-outlet/routable-profile-page/ng-outlet/routed-page/profile-page/div[3]/div[2]/artist-songs-and-albums/album-grid/div[2]\").click()\n",
    "selenium_html = driver.find_element_by_xpath('/html/body/div[5]/div[1]/ng-transclude/scrollable-data/div')\n",
    "html = selenium_html.get_attribute(\"innerHTML\")\n",
    "soup = BeautifulSoup(html)\n",
    "album_tags = soup.findAll('div', {'class':'mini_card-title'})\n",
    "album_url_tag = soup.findAll('a')\n",
    "album_list = [album.text for album in album_tags]\n",
    "album_urls = ([album['href'] for album in album_url_tag])\n",
    "\n",
    "driver.close()\n",
    "print(album_urls)"
   ]
  },
  {
   "cell_type": "code",
   "execution_count": null,
   "metadata": {},
   "outputs": [],
   "source": []
  },
  {
   "cell_type": "code",
   "execution_count": 1,
   "metadata": {},
   "outputs": [],
   "source": [
    "from fetch.scrape_genius import *"
   ]
  },
  {
   "cell_type": "code",
   "execution_count": 2,
   "metadata": {},
   "outputs": [
    {
     "ename": "TypeError",
     "evalue": "'str' object is not callable",
     "output_type": "error",
     "traceback": [
      "\u001b[0;31m---------------------------------------------------------------------------\u001b[0m",
      "\u001b[0;31mTypeError\u001b[0m                                 Traceback (most recent call last)",
      "\u001b[0;32m<ipython-input-2-04abec570005>\u001b[0m in \u001b[0;36m<module>\u001b[0;34m\u001b[0m\n\u001b[0;32m----> 1\u001b[0;31m \u001b[0mscrape_album_data\u001b[0m\u001b[0;34m(\u001b[0m\u001b[0;34m'https://genius.com/albums/Eminem/Kamikaze'\u001b[0m\u001b[0;34m)\u001b[0m\u001b[0;34m\u001b[0m\u001b[0;34m\u001b[0m\u001b[0m\n\u001b[0m",
      "\u001b[0;32m~/Documents/Coding/flatiron/hip_hop_mod_5/fetch/scrape_genius.py\u001b[0m in \u001b[0;36mscrape_album_data\u001b[0;34m(album_url)\u001b[0m\n\u001b[1;32m      9\u001b[0m     \u001b[0mhtml\u001b[0m \u001b[0;34m=\u001b[0m \u001b[0mBeautifulSoup\u001b[0m\u001b[0;34m(\u001b[0m\u001b[0mreq\u001b[0m\u001b[0;34m.\u001b[0m\u001b[0mcontent\u001b[0m\u001b[0;34m,\u001b[0m \u001b[0;34m'html.parser'\u001b[0m\u001b[0;34m)\u001b[0m\u001b[0;34m\u001b[0m\u001b[0;34m\u001b[0m\u001b[0m\n\u001b[1;32m     10\u001b[0m     \u001b[0mrelease_date\u001b[0m \u001b[0;34m=\u001b[0m \u001b[0mhtml\u001b[0m\u001b[0;34m.\u001b[0m\u001b[0mfind\u001b[0m\u001b[0;34m(\u001b[0m\u001b[0;34m'div'\u001b[0m\u001b[0;34m,\u001b[0m \u001b[0;34m{\u001b[0m\u001b[0;34m'class'\u001b[0m\u001b[0;34m:\u001b[0m \u001b[0;34m'metadata_unit'\u001b[0m\u001b[0;34m}\u001b[0m\u001b[0;34m)\u001b[0m\u001b[0;34m\u001b[0m\u001b[0;34m\u001b[0m\u001b[0m\n\u001b[0;32m---> 11\u001b[0;31m     \u001b[0mprint\u001b[0m\u001b[0;34m(\u001b[0m\u001b[0mrelease_date\u001b[0m\u001b[0;34m.\u001b[0m\u001b[0mtext\u001b[0m\u001b[0;34m(\u001b[0m\u001b[0;34m)\u001b[0m\u001b[0;34m)\u001b[0m\u001b[0;34m\u001b[0m\u001b[0;34m\u001b[0m\u001b[0m\n\u001b[0m\u001b[1;32m     12\u001b[0m \u001b[0;34m\u001b[0m\u001b[0m\n\u001b[1;32m     13\u001b[0m \u001b[0;31m#function to scrape song names, artists featured on song, song url\u001b[0m\u001b[0;34m\u001b[0m\u001b[0;34m\u001b[0m\u001b[0;34m\u001b[0m\u001b[0m\n",
      "\u001b[0;31mTypeError\u001b[0m: 'str' object is not callable"
     ]
    }
   ],
   "source": [
    "scrape_album_data('https://genius.com/albums/Eminem/Kamikaze')"
   ]
  },
  {
   "cell_type": "code",
   "execution_count": 4,
   "metadata": {},
   "outputs": [],
   "source": [
    "lines = ['[Intro: Joyner Lucas]',\n",
    "   'Whoa, Joyner, Joyner, yeah, yeah, yeah',\n",
    "   '[Bridge: Joyner Lucas]',\n",
    "   'Yeah, I done did a lot of things in my day, I admit it',\n",
    "   \"I don't take back what I say, if I said it then I meant it\",\n",
    "   \"All my life I want a Grammy, but I'll prolly never get it\",\n",
    "   \"I ain't never had no trophy or no motherfuckin' ribbon (Yah I said it)\",\n",
    "   \"Fuck the system, I'm that nigga, bend the law, cut the rules\",\n",
    "   \"I'm about to risk it all, I ain't got too much to lose\",\n",
    "   \"Y'all been eatin' long enough, it's my turn to cut the food\",\n",
    "   'Pass the plate! Where my drink? This my day, lucky you',\n",
    "   'Fuck you too, woo!',\n",
    "   '[Chorus: Joyner Lucas]',\n",
    "   \"Y'all gotta move, y'all gotta move, y'all gotta move\",\n",
    "   'Give me some room, give me some room, give me the juice',\n",
    "   'Hop out the coupe, hop out the coupe, hop out and shoot',\n",
    "   \"Y'all gotta move, y'all gotta move, give me the juice\",\n",
    "   '[Verse 1: Joyner Lucas]',\n",
    "   'Back on my bullshit, my back to the wall',\n",
    "   'Turn my back on you, all of you finished',\n",
    "   \"Back to these bullets, it's back to the job\",\n",
    "   \"Pull my MAC out and all of you runnin'\",\n",
    "   \"Back on my hood shit, it's back to the pushin'\",\n",
    "   \"These packs and I'm actually pumpin'\",\n",
    "   \"Can't fuck with you rappers, you practically suckin'\",\n",
    "   \"You mighta went platinum but that don't mean nothin'\",\n",
    "   \"I'm actually buzzin' this time\",\n",
    "   \"Straight out the kitchen, I told 'em the oven is mine\",\n",
    "   'I do not fuck with you guys',\n",
    "   \"If I don't kill you, just know you gon' suffer this time\",\n",
    "   \"I ain't no gangster but I got some bangers\",\n",
    "   'Some chains and some blades and a couple of nines',\n",
    "   'Choppers and jammies, a partridge, a pear tree',\n",
    "   \"My twelve days of Christmas was nothin' but lies\",\n",
    "   'I run at you hard like a sumo (Sumo)',\n",
    "   'They say I talk like a chulo (Chulo)',\n",
    "   \"I live in Mars, I'm not Bruno (Woo)\",\n",
    "   \"Bitch I'm a dog, call me Cujo (Rah)\",\n",
    "   'You play your cards, I reverse on you all',\n",
    "   'And I might just draw 4 like a Uno (Bup)',\n",
    "   'Cállate boca mejor, maricón, little puto, and all of you culo (Joyner)',\n",
    "   \"They've invented a level up in the ghetto to get old\",\n",
    "   \"Lookin' for somethin' I prolly can never find now\",\n",
    "   \"Shit get relevant 'til 'nother beef die down\",\n",
    "   'In truth a nigga just really want me tied down',\n",
    "   \"I've been alone and I never needed nobody\",\n",
    "   \"Just only me and my shotty, I'll tell these niggas to lie down\",\n",
    "   'Keep all the money, I never wanted the lifestyle',\n",
    "   \"I just pray to God that my son'll be alright now\",\n",
    "   \"I said ain't no love for the other side\",\n",
    "   'Or anyone who ever want smoke (Joyner)',\n",
    "   \"When I die I'm goin' out as a underdog who never lost hope (Yeah)\",\n",
    "   'You in the wrong cab down the wrong path',\n",
    "   'Nigga, wrong way, wrong road (Woo, woo)',\n",
    "   'Snakes in the grass tryna slither fast',\n",
    "   \"I just bought a fuckin' lawn mower (Vroom!)\",\n",
    "   '[Bridge: Eminem]',\n",
    "   'I done said a lotta things in my day, I admit it',\n",
    "   'This is payback in a way, I regret it that I did it',\n",
    "   \"I done won a couple Grammys, but I sold my soul to get 'em\",\n",
    "   \"Wasn't in it for the trophies, just the fuckin' recognition\",\n",
    "   \"Fuck's the difference?\",\n",
    "   \"I'm that cracker, bend the law, fuck the rules\",\n",
    "   'Man I used to risk it all, now I got too much to lose',\n",
    "   \"I've been eatin' long enough, man my stomach should be full\",\n",
    "   'I just ate, licked the plate, my buffet, lucky me',\n",
    "   'Fuck you think? (Woo!)',\n",
    "   '[Verse 2: Eminem]',\n",
    "   'I got a couple of mansions',\n",
    "   \"Still I don't have any manners\",\n",
    "   'You got a couple of ghost writers',\n",
    "   \"But to these kids it don't actually matter\",\n",
    "   'They\\'re askin\\' me, \"What the fuck happened to hip-hop?\"',\n",
    "   'I said, \"I don\\'t have any answers.\"',\n",
    "   \"'Cause I took an L when I dropped my last album\",\n",
    "   \"It hurt me like hell but I'm back on these rappers\",\n",
    "   \"And actually comin' from humble beginnings\",\n",
    "   \"I'm somewhat uncomfortable winning\",\n",
    "   'I wish I could say, \"What a wonderful feeling!\"',\n",
    "   '\"We\\'re on the upswing like we\\'re punchin\\' the ceiling!\"',\n",
    "   \"But nothin' is feeling like anyone has any fuckin' ability\",\n",
    "   \"To even stick to a subject, it's killin' me\",\n",
    "   'The inability to pen humility',\n",
    "   \"Ha-ta-ta ba-ta-ta, why don't we make a bunch of\",\n",
    "   \"Fuckin' songs about nothin' and mumble 'em?\",\n",
    "   \"Fuck it, I'm goin' for the jugular\",\n",
    "   \"Shit is a circus, you clowns that are comin' up\",\n",
    "   \"Don't give an ounce of a motherfuck\",\n",
    "   'About the ones that were here before you that made rap',\n",
    "   \"Let's recap, way back, MC's that wreak havoc on tape decks\",\n",
    "   \"ADAT's, where the G Raps and Kanes at?\",\n",
    "   'We need 3 Stacks ASAP and bring Masta Ace back',\n",
    "   \"'Cause half of these rappers have brain damage\",\n",
    "   \"All the lean rappin', face tats, syruped out like tree sap\",\n",
    "   \"I don't hate trap, and I don't wanna seem mad\",\n",
    "   'But in fact, where the old me at? The same cat',\n",
    "   'That would take that feedback and aim back, I need that',\n",
    "   \"But I think it's inevitable\",\n",
    "   'They know what button to press or what lever to pull',\n",
    "   \"To get me to snap though (Lil' bitch)\",\n",
    "   \"And if I pay it attention I'm probably makin' it bigger\",\n",
    "   \"But you've been takin' ya dicks in the fuckin' back, ho (Get it?)\",\n",
    "   \"On the brink, any minute got me thinkin' of finishin'\",\n",
    "   \"Everything with acetaminophen and reapin' the benefits\",\n",
    "   \"I'm asleep at the wheel again\",\n",
    "   \"As I peak into thinkin' about an evil intent\",\n",
    "   \"Of another beat I'ma kill again\",\n",
    "   \"'Cause even if I gotta end up eatin' a pill again\",\n",
    "   'Even ketamine or methamphetamine with the minithin',\n",
    "   'It better be at least 70 to 300 milligram',\n",
    "   \"And I might as well 'cause I'ma end up bein' a villain again\",\n",
    "   'Levels to this shit, I got an elevator',\n",
    "   \"You could never say to me I'm not a fuckin' record breaker\",\n",
    "   'I sound like a broken record every time I break a record',\n",
    "   'Nobody could ever take away the legacy I made, I never cater',\n",
    "   'Motherfucker, now I got a right to be this way',\n",
    "   'I got spite inside my DNA',\n",
    "   \"But I wrote 'til the wheels fall off, I'm workin' tirelessly, ayy\",\n",
    "   \"It's the moment y'all been waitin' for\",\n",
    "   \"Like California wishin' rain to pour\",\n",
    "   \"In that drought, y'all been prayin' for\",\n",
    "   'My downfall from the 8 Mile to the Southpaw',\n",
    "   'Still the same Marshall, that outlaw',\n",
    "   \"That they say as a writer might've fell off\",\n",
    "   \"I'm back on that bull like the cowboy\",\n",
    "   '[Chorus: Joyner Lucas & Eminem]',\n",
    "   \"So y'all gotta move (Yeah), y'all gotta move (Yeah), y'all gotta move\",\n",
    "   'Give me some room, give me some room, give me the juice',\n",
    "   'Hop out the coupe, hop out the coupe, hop out and shoot',\n",
    "   \"Y'all gotta move, y'all gotta move, give me the juice\"]"
   ]
  },
  {
   "cell_type": "code",
   "execution_count": null,
   "metadata": {},
   "outputs": [],
   "source": []
  },
  {
   "cell_type": "code",
   "execution_count": 29,
   "metadata": {},
   "outputs": [],
   "source": []
  },
  {
   "cell_type": "code",
   "execution_count": null,
   "metadata": {},
   "outputs": [],
   "source": []
  },
  {
   "cell_type": "code",
   "execution_count": 62,
   "metadata": {},
   "outputs": [],
   "source": []
  },
  {
   "cell_type": "code",
   "execution_count": 66,
   "metadata": {},
   "outputs": [],
   "source": []
  },
  {
   "cell_type": "code",
   "execution_count": null,
   "metadata": {},
   "outputs": [],
   "source": []
  },
  {
   "cell_type": "code",
   "execution_count": null,
   "metadata": {},
   "outputs": [],
   "source": []
  }
 ],
 "metadata": {
  "kernelspec": {
   "display_name": "genres",
   "language": "python",
   "name": "genres"
  },
  "language_info": {
   "codemirror_mode": {
    "name": "ipython",
    "version": 3
   },
   "file_extension": ".py",
   "mimetype": "text/x-python",
   "name": "python",
   "nbconvert_exporter": "python",
   "pygments_lexer": "ipython3",
   "version": "3.7.2"
  }
 },
 "nbformat": 4,
 "nbformat_minor": 2
}
