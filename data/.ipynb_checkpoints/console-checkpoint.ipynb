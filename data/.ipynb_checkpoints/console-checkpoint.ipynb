{
 "cells": [
  {
   "cell_type": "code",
   "execution_count": 20,
   "metadata": {},
   "outputs": [],
   "source": [
    "from db_model import *\n",
    "import pandas as pd\n",
    "from fetch.scrape_genius import *\n",
    "from fetch.spotify_api import *\n",
    "from master import *"
   ]
  },
  {
   "cell_type": "code",
   "execution_count": 21,
   "metadata": {},
   "outputs": [],
   "source": [
    "df_artists = pd.read_sql('artists', engine)\n",
    "df_albums = pd.read_sql('albums', engine)\n",
    "df_songs = pd.read_sql('songs', engine)"
   ]
  },
  {
   "cell_type": "code",
   "execution_count": 22,
   "metadata": {},
   "outputs": [
    {
     "data": {
      "text/plain": [
       "id                              39\n",
       "name      Del the Funky Homosapian\n",
       "decade                       1990s\n",
       "Name: 38, dtype: object"
      ]
     },
     "execution_count": 22,
     "metadata": {},
     "output_type": "execute_result"
    }
   ],
   "source": [
    "list_of_missed_lyrics = []\n",
    "list_of_missed_spotify = []"
   ]
  },
  {
   "cell_type": "code",
   "execution_count": 17,
   "metadata": {},
   "outputs": [],
   "source": [
    "# for idx, row in df_artists[39:50].iterrows():\n",
    "#     add_albums_song_to_db(row['name'], list_of_missed_lyrics)"
   ]
  },
  {
   "cell_type": "code",
   "execution_count": 16,
   "metadata": {},
   "outputs": [],
   "source": [
    "# list_of_missed_lyrics"
   ]
  },
  {
   "cell_type": "code",
   "execution_count": 13,
   "metadata": {},
   "outputs": [],
   "source": [
    "# import csv\n",
    "# columns = ['type', 'song', 'artist', 'album']\n",
    "# csv_file = \"missed.csv\"\n",
    "# try:\n",
    "#     with open(csv_file, 'a') as csvfile:\n",
    "#         writer = csv.DictWriter(csvfile, columns)\n",
    "#         writer.writeheader()\n",
    "#         for data in list_of_missed_lyrics:\n",
    "#             writer.writerow(data)\n",
    "# except IOError:\n",
    "#     print(\"I/O error\") "
   ]
  },
  {
   "cell_type": "code",
   "execution_count": 23,
   "metadata": {},
   "outputs": [],
   "source": [
    "# pd.read_csv('missed.csv')"
   ]
  },
  {
   "cell_type": "code",
   "execution_count": 18,
   "metadata": {},
   "outputs": [],
   "source": [
    "# df_artists"
   ]
  },
  {
   "cell_type": "code",
   "execution_count": null,
   "metadata": {},
   "outputs": [],
   "source": [
    "add_spotify_songs_to_db()"
   ]
  },
  {
   "cell_type": "code",
   "execution_count": null,
   "metadata": {},
   "outputs": [],
   "source": []
  },
  {
   "cell_type": "code",
   "execution_count": null,
   "metadata": {},
   "outputs": [],
   "source": []
  },
  {
   "cell_type": "code",
   "execution_count": null,
   "metadata": {},
   "outputs": [],
   "source": []
  }
 ],
 "metadata": {
  "kernelspec": {
   "display_name": "genres",
   "language": "python",
   "name": "genres"
  }
 },
 "nbformat": 4,
 "nbformat_minor": 2
}
