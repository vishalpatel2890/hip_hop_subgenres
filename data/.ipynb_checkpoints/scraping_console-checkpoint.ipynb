{
 "cells": [
  {
   "cell_type": "code",
   "execution_count": 1,
   "metadata": {},
   "outputs": [],
   "source": [
    "from db_model import *\n",
    "import pandas as pd\n",
    "from fetch.scrape_genius import *\n",
    "from fetch.spotify_api import *\n",
    "from master import *"
   ]
  },
  {
   "cell_type": "code",
   "execution_count": 2,
   "metadata": {
    "scrolled": true
   },
   "outputs": [
    {
     "data": {
      "text/plain": [
       "12822"
      ]
     },
     "execution_count": 2,
     "metadata": {},
     "output_type": "execute_result"
    }
   ],
   "source": [
    "df_artists = pd.read_sql('artists', engine)\n",
    "df_albums = pd.read_sql('albums', engine)\n",
    "df_songs = pd.read_sql('songs', engine)\n",
    "df_spotify = pd.read_sql('spotify_song_data', engine)\n",
    "len(df_spotify)"
   ]
  },
  {
   "cell_type": "code",
   "execution_count": 3,
   "metadata": {},
   "outputs": [],
   "source": [
    "list_of_missed_lyrics = []\n",
    "list_of_missed_spotify = []"
   ]
  },
  {
   "cell_type": "code",
   "execution_count": 18,
   "metadata": {},
   "outputs": [],
   "source": [
    "#run to scrape songs for each artist and album using database (in pd DataFrame) of artists\n",
    "# for idx, row in df_artists[170:].iterrows():\n",
    "#     add_albums_song_to_db(row['name'], list_of_missed_lyrics)"
   ]
  },
  {
   "cell_type": "code",
   "execution_count": 33,
   "metadata": {},
   "outputs": [],
   "source": []
  },
  {
   "cell_type": "code",
   "execution_count": 12,
   "metadata": {},
   "outputs": [],
   "source": [
    "#add list_of_missed_lyrics to csv\n",
    "# import csv\n",
    "# columns = ['type', 'song', 'artist', 'album']\n",
    "# csv_file = \"missed.csv\"\n",
    "# try:\n",
    "#     with open(csv_file, 'a') as csvfile:\n",
    "#         writer = csv.DictWriter(csvfile, columns)\n",
    "#         writer.writeheader()\n",
    "#         for data in list_of_missed_lyrics:\n",
    "#             writer.writerow(data)\n",
    "# except IOError:\n",
    "#     print(\"I/O error\") "
   ]
  },
  {
   "cell_type": "code",
   "execution_count": null,
   "metadata": {},
   "outputs": [],
   "source": []
  },
  {
   "cell_type": "code",
   "execution_count": 8,
   "metadata": {},
   "outputs": [],
   "source": []
  },
  {
   "cell_type": "code",
   "execution_count": 1,
   "metadata": {},
   "outputs": [],
   "source": [
    "#using songs database fetch spotify data\n",
    "#add_spotify_songs_to_db(session, list_of_missed_spotify)"
   ]
  },
  {
   "cell_type": "code",
   "execution_count": null,
   "metadata": {},
   "outputs": [],
   "source": [
    "#add list_of_missed_spotify to csv\n",
    "# import csv\n",
    "# columns = ['type', 'song', 'artist', 'album']\n",
    "# csv_file = \"missed_spotify.csv\"\n",
    "# try:\n",
    "#     with open(csv_file, 'a') as csvfile:\n",
    "#         writer = csv.DictWriter(csvfile, columns)\n",
    "#         writer.writeheader()\n",
    "#         for data in list_of_missed_spotify:\n",
    "#             writer.writerow(data)\n",
    "# except IOError:\n",
    "#     print(\"I/O error\") "
   ]
  }
 ],
 "metadata": {
  "kernelspec": {
   "display_name": "genres",
   "language": "python",
   "name": "genres"
  },
  "language_info": {
   "codemirror_mode": {
    "name": "ipython",
    "version": 3
   },
   "file_extension": ".py",
   "mimetype": "text/x-python",
   "name": "python",
   "nbconvert_exporter": "python",
   "pygments_lexer": "ipython3",
   "version": "3.7.2"
  }
 },
 "nbformat": 4,
 "nbformat_minor": 2
}
